{
  "nbformat": 4,
  "nbformat_minor": 0,
  "metadata": {
    "colab": {
      "provenance": []
    },
    "kernelspec": {
      "name": "python3",
      "display_name": "Python 3"
    },
    "language_info": {
      "name": "python"
    }
  },
  "cells": [
    {
      "cell_type": "code",
      "execution_count": null,
      "metadata": {
        "id": "BhtKxVMRJU_h"
      },
      "outputs": [],
      "source": []
    },
    {
      "cell_type": "markdown",
      "source": [
        "# Tarea 2.4 – Desafíos 3 y 4\n",
        "\n",
        "## Camila Fleitas.\n",
        "\n",
        "Este cuaderno resuelve los desafíos 3 y 4 del cuaderno `2_4_Tipos_de_datos_y_operadores.ipynb`. A continuación se presentan las explicaciones y el código para resolver cada uno.\n"
      ],
      "metadata": {
        "id": "FWCbGMBlKBKq"
      }
    },
    {
      "cell_type": "markdown",
      "source": [
        "## Desafío 3: Convertidor de temperaturas\n",
        "\n",
        "### ¿Qué pide el enunciado?\n",
        "Convertir una temperatura ingresada en grados Celsius a Fahrenheit y a Kelvin.\n",
        "\n",
        "### ¿Qué tipos de datos y operadores se usan?\n",
        "- Tipo de dato: `float`\n",
        "- Operadores: multiplicación `*`, suma `+`, división `/`\n",
        "\n",
        "### ¿Qué validaciones se podrían hacer?\n",
        "- Verificar si el valor ingresado es realmente un número.\n",
        "\n"
      ],
      "metadata": {
        "id": "PRjh-9SGK8Ya"
      }
    },
    {
      "cell_type": "code",
      "source": [
        "# Desafío 3: Convertidor de temperaturas\n",
        "celsius = float(input(\"Ingrese la temperatura en grados Celsius: \"))\n",
        "\n",
        "# Conversiones\n",
        "fahrenheit = celsius * 9 / 5 + 32\n",
        "kelvin = celsius + 273.15\n",
        "\n",
        "# Resultados\n",
        "print(\"Temperatura en Fahrenheit:\", fahrenheit)\n",
        "print(\"Temperatura en Kelvin:\", kelvin)\n"
      ],
      "metadata": {
        "id": "RiaQe2oNLNaO"
      },
      "execution_count": null,
      "outputs": []
    },
    {
      "cell_type": "code",
      "source": [],
      "metadata": {
        "id": "ip4GEPscmtFn"
      },
      "execution_count": null,
      "outputs": []
    },
    {
      "cell_type": "markdown",
      "source": [
        "## Desafío 4: Verificar múltiplos de varios números\n",
        "\n",
        "### ¿Qué pide el enunciado?\n",
        "Consiste en verificar si un número ingresado por el usuario es múltiplo de los siguientes números: 2, 3, 5, 7, 9, 10 y 11.\n",
        "\n",
        "### ¿Qué tipos de datos y operadores se usan?\n",
        "- Tipo de dato: `int` para el número ingresado.\n",
        "- Operadores: el módulo (`%`) para calcular el resto y el comparador lógico (`==`) para saber si ese resto es cero.\n",
        "\n",
        "### ¿Qué validaciones se podrían hacer?\n",
        "- Verificar que lo ingresado sea realmente un número entero.\n",
        "- Asegurar que no haya errores si el usuario ingresa texto en lugar de un número.\n"
      ],
      "metadata": {
        "id": "oIWaZv7_dwsF"
      }
    },
    {
      "cell_type": "code",
      "source": [
        "# Desafío 4: Verificar múltiplos de varios números\n",
        "numero = int(input(\"Ingrese un número: \"))\n",
        "\n",
        "for n in [2, 3, 5, 7, 9, 10, 11]:\n",
        "    if numero % n == 0:\n",
        "        print(f\"¿Es {numero} múltiplo de {n}? Sí\")\n",
        "    else:\n",
        "        print(f\"¿Es {numero} múltiplo de {n}? No\")"
      ],
      "metadata": {
        "id": "I2GPXF0qm5NY"
      },
      "execution_count": null,
      "outputs": []
    },
    {
      "cell_type": "markdown",
      "source": [
        "Webgrafía utilizada:\n",
        "\n",
        "- https://colab.research.google.com/\n",
        "- https://www.freeconvert.com/es/unit/celsius-to-kelvin\n",
        "- https://github.com/\n",
        "- https://www.newark.com/es/convertidor-temperatura\n"
      ],
      "metadata": {
        "id": "uFwdCK5sgjOf"
      }
    },
    {
      "cell_type": "markdown",
      "source": [
        "Enlace al repositorio de github: https://github.com/Camila-Fleitas?tab=repositories"
      ],
      "metadata": {
        "id": "od23rfeHiuLX"
      }
    }
  ]
}