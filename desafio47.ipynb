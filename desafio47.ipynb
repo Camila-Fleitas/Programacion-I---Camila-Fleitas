{
 "cells": [
  {
   "cell_type": "markdown",
   "id": "dfe1c552",
   "metadata": {},
   "source": [
    "Desafío 47: Amplía la clase `Autor` para incluir una lista de libros escritos por el autor. Implementa métodos para agregar y eliminar libros de esta lista."
   ]
  },
  {
   "cell_type": "code",
   "execution_count": 6,
   "id": "39bab14e",
   "metadata": {},
   "outputs": [
    {
     "name": "stdout",
     "output_type": "stream",
     "text": [
      "Libro 'La tregua' agregado.\n",
      "Libro 'Gracias por el fuego' agregado.\n",
      "Nombre: Mario Benedetti\n",
      "Nacionalidad: Uruguayo\n",
      "Libros escritos: ['La tregua', 'Gracias por el fuego']\n",
      "Libro 'La tregua' eliminado.\n",
      "Nombre: Mario Benedetti\n",
      "Nacionalidad: Uruguayo\n",
      "Libros escritos: ['Gracias por el fuego']\n"
     ]
    }
   ],
   "source": [
    "# Clase Autor \n",
    "class Autor: \n",
    "    # Constructor: define nombre, nacionalidad y lista de libros  \n",
    "    def __init__(self, nombre=\"\", nacionalidad=\"\"): \n",
    "        self.nombre = nombre               # Atributo: guarda el nombre del autor\n",
    "        self.nacionalidad = nacionalidad   # Atributo: guarda la nacionalidad del autor\n",
    "        self.libros = []                   # Lista vacía para guardar los libros escritos por el autor\n",
    "\n",
    "    # Método para mostrar la información del autor \n",
    "    def mostrar_autor(self): \n",
    "        print(f\"Nombre: {self.nombre}\")                # Muestra el nombre del autor\n",
    "        print(f\"Nacionalidad: {self.nacionalidad}\")    # Muestra la nacionalidad del autor\n",
    "        print(\"Libros escritos:\", self.libros)         # Muestra la lista de libros del autor\n",
    "\n",
    "    # Método para agregar un libro a la lista \n",
    "    def agregar_libro(self, libro): \n",
    "        self.libros.append(libro)                      # Agrega el libro a la lista de libros\n",
    "        print(f\"Libro '{libro}' agregado.\")            # Mensaje confirmando la acción\n",
    "\n",
    "    # Método para eliminar un libro de la lista \n",
    "    def eliminar_libro(self, libro): \n",
    "        if libro in self.libros:                       # Verifica que el libro esté en la lista  \n",
    "            self.libros.remove(libro)                  # Elimina el libro de la lista\n",
    "            print(f\"Libro '{libro}' eliminado.\")       # Mensaje confirmando la acción\n",
    "        else: \n",
    "            print(f\"El libro '{libro}' no está en la lista.\")  # Mensaje si el libro no existe en la lista\n",
    "\n",
    "\n",
    "# --- Ejemplo de uso --- \n",
    "autor1 = Autor(\"Mario Benedetti\", \"Uruguayo\")   # Se crea un objeto de la clase Autor con nombre y nacionalidad\n",
    "\n",
    "autor1.agregar_libro(\"La tregua\")               # Se agrega el libro \"La tregua\" a la lista de libros\n",
    "autor1.agregar_libro(\"Gracias por el fuego\")    # Se agrega el libro \"Gracias por el fuego\" a la lista de libros\n",
    "\n",
    "autor1.mostrar_autor()                          # Muestra toda la información del autor y su lista de libros\n",
    "\n",
    "autor1.eliminar_libro(\"La tregua\")              # Elimina \"La tregua\" de la lista de libros\n",
    "\n",
    "autor1.mostrar_autor()                          # Vuelve a mostrar la información actualizada del autor"
   ]
  }
 ],
 "metadata": {
  "kernelspec": {
   "display_name": "Python 3",
   "language": "python",
   "name": "python3"
  },
  "language_info": {
   "codemirror_mode": {
    "name": "ipython",
    "version": 3
   },
   "file_extension": ".py",
   "mimetype": "text/x-python",
   "name": "python",
   "nbconvert_exporter": "python",
   "pygments_lexer": "ipython3",
   "version": "3.13.2"
  }
 },
 "nbformat": 4,
 "nbformat_minor": 5
}
