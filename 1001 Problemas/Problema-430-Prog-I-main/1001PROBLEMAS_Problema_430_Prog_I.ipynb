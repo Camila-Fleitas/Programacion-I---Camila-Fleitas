{
  "nbformat": 4,
  "nbformat_minor": 0,
  "metadata": {
    "colab": {
      "provenance": []
    },
    "kernelspec": {
      "name": "python3",
      "display_name": "Python 3"
    },
    "language_info": {
      "name": "python"
    }
  },
  "cells": [
    {
      "cell_type": "code",
      "execution_count": 1,
      "metadata": {
        "colab": {
          "base_uri": "https://localhost:8080/"
        },
        "id": "Fm5ThRjfgdFj",
        "outputId": "d8caeb5e-1d0c-404d-cf19-c3db552c4d22"
      },
      "outputs": [
        {
          "output_type": "stream",
          "name": "stdout",
          "text": [
            "[10, 8]\n"
          ]
        }
      ],
      "source": [
        "def filtrar_mayores(lista, numero):\n",
        "    # Devuelve una lista con los elementos de 'lista' que sean mayores que 'numero'\n",
        "    return [elemento for elemento in lista if elemento > numero]\n",
        "\n",
        "# Lista de ejemplo\n",
        "numeros = [3, 10, 5, 8, 1]  # Contiene varios números\n",
        "\n",
        "# Llamada a la función para filtrar los mayores que 5\n",
        "resultado = filtrar_mayores(numeros, 5)  # Debería devolver [10, 8]\n",
        "\n",
        "# Imprime el resultado en pantalla\n",
        "print(resultado)  # Salida esperada: [10, 8]"
      ]
    }
  ]
}