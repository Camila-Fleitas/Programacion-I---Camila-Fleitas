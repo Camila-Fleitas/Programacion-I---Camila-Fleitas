{
  "nbformat": 4,
  "nbformat_minor": 0,
  "metadata": {
    "colab": {
      "provenance": []
    },
    "kernelspec": {
      "name": "python3",
      "display_name": "Python 3"
    },
    "language_info": {
      "name": "python"
    }
  },
  "cells": [
    {
      "cell_type": "code",
      "execution_count": 1,
      "metadata": {
        "colab": {
          "base_uri": "https://localhost:8080/"
        },
        "id": "TVySY5moiYpK",
        "outputId": "8c4fa980-99c0-44bb-d897-d4e09b0f6f02"
      },
      "outputs": [
        {
          "output_type": "stream",
          "name": "stdout",
          "text": [
            "Ingrese números enteros separados por espacios: 3 6\n",
            "La suma de los elementos es: 9\n"
          ]
        }
      ],
      "source": [
        "# Solicita al usuario que ingrese números separados por espacios\n",
        "entrada = input(\"Ingrese números enteros separados por espacios: \")\n",
        "\n",
        "# Convierte la cadena de entrada en una lista de enteros\n",
        "# 1. .split() separa la cadena en elementos según los espacios\n",
        "# 2. map(int, ...) convierte cada elemento a entero\n",
        "# 3. list(...) crea una lista con esos enteros\n",
        "numeros = list(map(int, entrada.split()))\n",
        "\n",
        "# Calcula la suma de todos los elementos de la lista con sum()\n",
        "suma_total = sum(numeros)\n",
        "\n",
        "# Muestra el resultado en pantalla\n",
        "print(\"La suma de los elementos es:\", suma_total)\n"
      ]
    }
  ]
}