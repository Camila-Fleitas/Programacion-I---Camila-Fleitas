{
  "nbformat": 4,
  "nbformat_minor": 0,
  "metadata": {
    "colab": {
      "provenance": []
    },
    "kernelspec": {
      "name": "python3",
      "display_name": "Python 3"
    },
    "language_info": {
      "name": "python"
    }
  },
  "cells": [
    {
      "cell_type": "code",
      "execution_count": null,
      "metadata": {
        "id": "0ayUsLINKhRo"
      },
      "outputs": [],
      "source": [
        " Problema 296: Define una función en Python que calcule el volumen de una esfera."
      ]
    },
    {
      "cell_type": "markdown",
      "source": [],
      "metadata": {
        "id": "5pwaBQ3LKibU"
      }
    },
    {
      "cell_type": "code",
      "source": [
        "# Definimos la función que calcula el volumen de una esfera\n",
        "def volumen_esfera(radio):\n",
        "    pi = 3.1416  # Valor aproximado de pi\n",
        "    volumen = (4/3) * pi * radio**3  # Fórmula del volumen: (4/3) * pi * radio al cubo\n",
        "    return volumen  # Devolvemos el resultado calculado\n",
        "\n",
        "# Ejemplo de uso\n",
        "print(volumen_esfera(5))  # Calcula el volumen de una esfera con radio 5\n"
      ],
      "metadata": {
        "colab": {
          "base_uri": "https://localhost:8080/"
        },
        "id": "Qw6LWECkKi8K",
        "outputId": "fcf52f39-2dc4-4557-bc23-a2488cb30a33"
      },
      "execution_count": 1,
      "outputs": [
        {
          "output_type": "stream",
          "name": "stdout",
          "text": [
            "523.5999999999999\n"
          ]
        }
      ]
    }
  ]
}