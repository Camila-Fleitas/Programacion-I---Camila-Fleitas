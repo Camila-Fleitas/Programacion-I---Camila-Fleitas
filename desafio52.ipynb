{
 "cells": [
  {
   "cell_type": "markdown",
   "id": "3f4adc78",
   "metadata": {},
   "source": [
    "Desafío 52\n",
    "Crea una clase Libro que tenga atributos privados para el título, autor y ISBN. Proporciona métodos getter y setter para cada atributo."
   ]
  },
  {
   "cell_type": "code",
   "execution_count": 1,
   "id": "13b353f6",
   "metadata": {},
   "outputs": [
    {
     "name": "stdout",
     "output_type": "stream",
     "text": [
      "Título: La tregua\n",
      "Autor: Mario Benedetti\n",
      "ISBN: 978-84-376-0494-7\n",
      "\n",
      "Después de modificar:\n",
      "Título: Gracias por el fuego\n",
      "Autor: Mario Benedetti\n",
      "ISBN: 978-84-376-0494-7\n"
     ]
    }
   ],
   "source": [
    "# --- Definición de la clase Libro ---\n",
    "class Libro:\n",
    "    # Constructor: se llama cuando se crea un objeto de la clase\n",
    "    # Inicializa los atributos privados del libro\n",
    "    def __init__(self, titulo=\"\", autor=\"\", isbn=\"\"):\n",
    "        self.__titulo = titulo   # Atributo privado para el título del libro\n",
    "        self.__autor = autor     # Atributo privado para el autor del libro\n",
    "        self.__isbn = isbn       # Atributo privado para el ISBN del libro\n",
    "\n",
    "    # --- Métodos getter (para obtener los valores de los atributos privados) ---\n",
    "    def get_titulo(self):\n",
    "        # Devuelve el título del libro\n",
    "        return self.__titulo\n",
    "    \n",
    "    def get_autor(self):\n",
    "        # Devuelve el autor del libro\n",
    "        return self.__autor\n",
    "    \n",
    "    def get_isbn(self):\n",
    "        # Devuelve el ISBN del libro\n",
    "        return self.__isbn\n",
    "\n",
    "    # --- Métodos setter (para modificar los valores de los atributos privados) ---\n",
    "    def set_titulo(self, nuevo_titulo):\n",
    "        # Cambia el valor del título del libro\n",
    "        self.__titulo = nuevo_titulo\n",
    "    \n",
    "    def set_autor(self, nuevo_autor):\n",
    "        # Cambia el valor del autor del libro\n",
    "        self.__autor = nuevo_autor\n",
    "    \n",
    "    def set_isbn(self, nuevo_isbn):\n",
    "        # Cambia el valor del ISBN del libro\n",
    "        self.__isbn = nuevo_isbn\n",
    "\n",
    "    # --- Método para mostrar la información completa del libro ---\n",
    "    def mostrar_libro(self):\n",
    "        # Imprime todos los atributos del libro en pantalla\n",
    "        print(f\"Título: {self.__titulo}\")   # Muestra el título\n",
    "        print(f\"Autor: {self.__autor}\")     # Muestra el autor\n",
    "        print(f\"ISBN: {self.__isbn}\")       # Muestra el ISBN\n",
    "\n",
    "\n",
    "# --- Ejemplo de uso de la clase Libro ---\n",
    "\n",
    "# Crear un objeto libro1 de la clase Libro\n",
    "# Se pasan los valores iniciales: título, autor e ISBN\n",
    "libro1 = Libro(\"La tregua\", \"Mario Benedetti\", \"978-84-376-0494-7\")\n",
    "\n",
    "# Mostrar los datos iniciales del libro usando el método mostrar_libro\n",
    "libro1.mostrar_libro()\n",
    "\n",
    "# Cambiar el título del libro usando el método setter\n",
    "libro1.set_titulo(\"Gracias por el fuego\")\n",
    "\n",
    "# Mostrar los datos después de modificar el título\n",
    "print(\"\\nDespués de modificar:\")\n",
    "libro1.mostrar_libro()"
   ]
  }
 ],
 "metadata": {
  "kernelspec": {
   "display_name": "Python 3",
   "language": "python",
   "name": "python3"
  },
  "language_info": {
   "codemirror_mode": {
    "name": "ipython",
    "version": 3
   },
   "file_extension": ".py",
   "mimetype": "text/x-python",
   "name": "python",
   "nbconvert_exporter": "python",
   "pygments_lexer": "ipython3",
   "version": "3.13.2"
  }
 },
 "nbformat": 4,
 "nbformat_minor": 5
}
