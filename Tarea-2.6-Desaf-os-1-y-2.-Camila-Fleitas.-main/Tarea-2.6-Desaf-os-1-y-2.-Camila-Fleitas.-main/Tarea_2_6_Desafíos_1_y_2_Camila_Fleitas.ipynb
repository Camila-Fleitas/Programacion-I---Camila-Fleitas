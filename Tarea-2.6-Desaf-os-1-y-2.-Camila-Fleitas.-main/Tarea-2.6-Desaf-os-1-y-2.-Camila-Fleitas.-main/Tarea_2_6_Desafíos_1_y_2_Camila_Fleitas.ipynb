{
  "nbformat": 4,
  "nbformat_minor": 0,
  "metadata": {
    "colab": {
      "provenance": []
    },
    "kernelspec": {
      "name": "python3",
      "display_name": "Python 3"
    },
    "language_info": {
      "name": "python"
    }
  },
  "cells": [
    {
      "cell_type": "markdown",
      "source": [
        "## Desafío 1: Calificaciones aprobadas\n",
        "\n",
        "**¿Qué pide el enunciado?**  \n",
        "\n",
        "Contar cuántos estudiantes aprobaron (nota ≥ 7) y cuántos no, utilizando bucles y condicionales.\n",
        "\n",
        "**¿Qué estructuras de control y operadores usaste?**\n",
        "\n",
        "Utilicé un bucle **for**  para recorrer las calificaciones y condicionales **if/else** para verificar si son mayores o iguales a 7. Usé operadores de comparación **(>=, <).**\n",
        "\n",
        "**¿Qué dificultades encontraste y cómo las resolviste?**\n",
        "\n",
        "Tuve que decidir cómo ingresar las notas. Usé **input()** para ingresarlas de una en una, aunque se podrían cargar en una lista también. El contador fue útil para registrar los resultados.\n"
      ],
      "metadata": {
        "id": "bB9lBBlF_hQg"
      }
    },
    {
      "cell_type": "code",
      "source": [
        "# Desafío 1: Calificaciones aprobadas\n",
        "\n",
        "cantidad_estudiantes = int(input(\"¿Cuántos estudiantes hay? \"))\n",
        "aprobados = 0\n",
        "desaprobados = 0\n",
        "\n",
        "for i in range(cantidad_estudiantes):\n",
        "    nota = float(input(f\"Ingrese la calificación del estudiante {i+1}: \"))\n",
        "    if nota >= 7:\n",
        "        aprobados += 1\n",
        "    else:\n",
        "        desaprobados += 1\n",
        "\n",
        "print(f\"Aprobados: {aprobados}\")\n",
        "print(f\"Desaprobados: {desaprobados}\")\n"
      ],
      "metadata": {
        "colab": {
          "base_uri": "https://localhost:8080/"
        },
        "id": "8oMK2Py2_ohA",
        "outputId": "3fdd608d-86f3-460d-e15d-cc6a879cc966"
      },
      "execution_count": 1,
      "outputs": [
        {
          "output_type": "stream",
          "name": "stdout",
          "text": [
            "¿Cuántos estudiantes hay? 2\n",
            "Ingrese la calificación del estudiante 1: 5\n",
            "Ingrese la calificación del estudiante 2: 8\n",
            "Aprobados: 1\n",
            "Desaprobados: 1\n"
          ]
        }
      ]
    },
    {
      "cell_type": "markdown",
      "source": [
        "## Desafío 2: Mejora del cálculo\n",
        "\n",
        "**¿Qué pide el enunciado?**\n",
        "\n",
        "Modificar el cálculo del promedio de calificaciones para que el usuario pueda ingresar todas las notas en una sola línea, separadas por comas.\n",
        "\n",
        "**¿Qué estructuras de control y operadores usaste?**\n",
        "\n",
        "Usé **.split(\",\")** para separar las notas, un bucle **for** para sumarlas, y **float()** para convertirlas a números decimales. Calculé el promedio dividiendo la suma total por la cantidad de notas.\n",
        "\n",
        "**¿Qué dificultades encontraste y cómo las resolviste?**  \n",
        "\n",
        "Tuve que asegurarme de convertir cada nota a número con **float()** y usar **len()** para contar cuántas notas se ingresaron.\n",
        "\n"
      ],
      "metadata": {
        "id": "T3BuHori_rX3"
      }
    },
    {
      "cell_type": "code",
      "source": [
        "# Desafío 2: Mejora del cálculo\n",
        "\n",
        "entrada = input(\"Ingresá las calificaciones separadas por comas: \")\n",
        "notas = entrada.split(\",\")\n",
        "suma = 0\n",
        "\n",
        "for nota in notas:\n",
        "    suma += float(nota)\n",
        "\n",
        "promedio = suma / len(notas)\n",
        "print(\"El promedio es:\", promedio)\n"
      ],
      "metadata": {
        "colab": {
          "base_uri": "https://localhost:8080/"
        },
        "id": "kYiFTMuOFu9p",
        "outputId": "271dbbff-1015-4ab6-9345-afa4aa1a0bf8"
      },
      "execution_count": 2,
      "outputs": [
        {
          "output_type": "stream",
          "name": "stdout",
          "text": [
            "Ingresá las calificaciones separadas por comas: 3,9,2\n",
            "El promedio es: 4.666666666666667\n"
          ]
        }
      ]
    },
    {
      "cell_type": "markdown",
      "source": [
        "Enlace al repositorio de github: https://github.com/Camila-Fleitas/Tarea-2.6-Desaf-os-1-y-2.-Camila-Fleitas.\n"
      ],
      "metadata": {
        "id": "gV99y_22GQGe"
      }
    },
    {
      "cell_type": "markdown",
      "source": [
        "Webgrafía:\n",
        "\n",
        "\n",
        "*  https://colab.research.google.com/\n",
        "*  2_6_Estructuras_de_control.ipynb\n",
        "*  https://github.com/\n",
        "\n",
        "\n",
        "\n",
        "\n",
        "\n"
      ],
      "metadata": {
        "id": "QEssgGBHG6vF"
      }
    }
  ]
}