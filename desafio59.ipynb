{
 "cells": [
  {
   "cell_type": "markdown",
   "id": "b1ed3f26",
   "metadata": {},
   "source": [
    "Diseña una clase LibroDigital que herede de Libro y añada atributos como formato (e.g., PDF, EPUB) y tamaño_archivo. Además, implementa una subclase EBook que sobrescriba un método para mostrar información específica, como enlaces de descarga. "
   ]
  },
  {
   "cell_type": "code",
   "execution_count": 1,
   "id": "1d35b9af",
   "metadata": {},
   "outputs": [
    {
     "name": "stdout",
     "output_type": "stream",
     "text": [
      "Título: Cien años de soledad\n",
      "Autor: Gabriel García Márquez\n",
      "ISBN: 978-84-376-0494-7\n",
      "Formato: EPUB\n",
      "Tamaño del archivo: 5 MB\n",
      "Enlace de descarga: https://ejemplo.com/descarga\n"
     ]
    }
   ],
   "source": [
    "# --- Clase base Libro ---\n",
    "# Esta clase tiene atributos privados para título, autor e ISBN\n",
    "# y métodos getter/setter para manipular esos atributos\n",
    "class Libro:\n",
    "    # Constructor: inicializa los atributos privados\n",
    "    def __init__(self, titulo=\"\", autor=\"\", isbn=\"\"):\n",
    "        self.__titulo = titulo  # Atributo privado para el título\n",
    "        self.__autor = autor    # Atributo privado para el autor\n",
    "        self.__isbn = isbn      # Atributo privado para el ISBN\n",
    "\n",
    "    # --- Getters: métodos para obtener los valores privados ---\n",
    "    def get_titulo(self):\n",
    "        return self.__titulo\n",
    "    \n",
    "    def get_autor(self):\n",
    "        return self.__autor\n",
    "    \n",
    "    def get_isbn(self):\n",
    "        return self.__isbn\n",
    "\n",
    "    # --- Setters: métodos para modificar los valores privados ---\n",
    "    def set_titulo(self, nuevo_titulo):\n",
    "        self.__titulo = nuevo_titulo\n",
    "    \n",
    "    def set_autor(self, nuevo_autor):\n",
    "        self.__autor = nuevo_autor\n",
    "    \n",
    "    def set_isbn(self, nuevo_isbn):\n",
    "        self.__isbn = nuevo_isbn\n",
    "\n",
    "    # Método para mostrar la información completa del libro\n",
    "    def mostrar_libro(self):\n",
    "        print(f\"Título: {self.__titulo}\")   # Muestra el título\n",
    "        print(f\"Autor: {self.__autor}\")     # Muestra el autor\n",
    "        print(f\"ISBN: {self.__isbn}\")       # Muestra el ISBN\n",
    "\n",
    "\n",
    "# --- Clase LibroDigital ---\n",
    "# Hereda de Libro y añade atributos específicos de libros digitales\n",
    "class LibroDigital(Libro):\n",
    "    # Constructor: inicializa atributos de Libro y nuevos atributos digitales\n",
    "    def __init__(self, titulo=\"\", autor=\"\", isbn=\"\", formato=\"\", tamaño_archivo=0):\n",
    "        super().__init__(titulo, autor, isbn)  # Llama al constructor de la clase base Libro\n",
    "        self.formato = formato                  # Formato del libro digital, por ejemplo PDF o EPUB\n",
    "        self.tamaño_archivo = tamaño_archivo    # Tamaño del archivo en MB\n",
    "\n",
    "    # Sobrescribimos el método mostrar_libro para incluir los atributos digitales\n",
    "    def mostrar_libro(self):\n",
    "        super().mostrar_libro()                 # Llama al método mostrar_libro de la clase base\n",
    "        print(f\"Formato: {self.formato}\")       # Muestra el formato del libro digital\n",
    "        print(f\"Tamaño del archivo: {self.tamaño_archivo} MB\")  # Muestra el tamaño del archivo\n",
    "\n",
    "\n",
    "# --- Subclase EBook ---\n",
    "# Hereda de LibroDigital y añade atributo enlace_descarga\n",
    "class EBook(LibroDigital):\n",
    "    # Constructor: inicializa todos los atributos de LibroDigital + enlace de descarga\n",
    "    def __init__(self, titulo=\"\", autor=\"\", isbn=\"\", formato=\"\", tamaño_archivo=0, enlace_descarga=\"\"):\n",
    "        super().__init__(titulo, autor, isbn, formato, tamaño_archivo)  # Llama al constructor de LibroDigital\n",
    "        self.enlace_descarga = enlace_descarga  # Atributo específico para EBook\n",
    "\n",
    "    # Sobrescribimos mostrar_libro para añadir el enlace de descarga\n",
    "    def mostrar_libro(self):\n",
    "        super().mostrar_libro()                 # Llama al método mostrar_libro de LibroDigital\n",
    "        print(f\"Enlace de descarga: {self.enlace_descarga}\")  # Muestra el enlace de descarga\n",
    "\n",
    "\n",
    "# --- Ejemplo de uso ---\n",
    "\n",
    "# Crear un objeto ebook1 de la clase EBook\n",
    "ebook1 = EBook(\n",
    "    \"Cien años de soledad\",                 # Título del libro\n",
    "    \"Gabriel García Márquez\",               # Autor\n",
    "    \"978-84-376-0494-7\",                    # ISBN\n",
    "    \"EPUB\",                                 # Formato del libro digital\n",
    "    5,                                      # Tamaño del archivo en MB\n",
    "    \"https://ejemplo.com/descarga\"          # Enlace de descarga\n",
    ")\n",
    "\n",
    "# Mostrar toda la información del libro, incluyendo formato, tamaño y enlace\n",
    "ebook1.mostrar_libro()\n"
   ]
  }
 ],
 "metadata": {
  "kernelspec": {
   "display_name": "Python 3",
   "language": "python",
   "name": "python3"
  },
  "language_info": {
   "codemirror_mode": {
    "name": "ipython",
    "version": 3
   },
   "file_extension": ".py",
   "mimetype": "text/x-python",
   "name": "python",
   "nbconvert_exporter": "python",
   "pygments_lexer": "ipython3",
   "version": "3.13.2"
  }
 },
 "nbformat": 4,
 "nbformat_minor": 5
}
