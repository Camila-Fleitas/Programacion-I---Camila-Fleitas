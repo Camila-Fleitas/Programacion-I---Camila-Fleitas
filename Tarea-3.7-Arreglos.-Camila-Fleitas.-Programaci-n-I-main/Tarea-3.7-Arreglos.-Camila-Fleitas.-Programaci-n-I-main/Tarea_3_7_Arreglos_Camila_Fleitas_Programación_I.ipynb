{
  "nbformat": 4,
  "nbformat_minor": 0,
  "metadata": {
    "colab": {
      "provenance": []
    },
    "kernelspec": {
      "name": "python3",
      "display_name": "Python 3"
    },
    "language_info": {
      "name": "python"
    }
  },
  "cells": [
    {
      "cell_type": "markdown",
      "source": [
        "# **Desafío 4: Control de notas de estudiantes**\n",
        "Como profesor, necesitas manejar las notas de tus estudiantes. Permite ingresar todas las notas de los estudiantes y realiza varias operaciones con esos datos."
      ],
      "metadata": {
        "id": "01bzZEt9T4zb"
      }
    },
    {
      "cell_type": "markdown",
      "source": [
        "**Pregunta 1: Calcula el promedio de las notas de la clase. ¿Cómo lo harías?**"
      ],
      "metadata": {
        "id": "t6CQpQ8oT_Zu"
      }
    },
    {
      "cell_type": "code",
      "source": [
        "# Lista de notas de los estudiantes\n",
        "notas = [8, 7.5, 10, 6, 9.5, 5, 8, 7, 9]\n",
        "\n",
        "# Calcula el promedio usando sum() y len(). (sum suma todos los elementos de la lista y len cuenta cuántos elementos hay en la lista)\n",
        "promedio = sum(notas) / len(notas)\n",
        "\n",
        "# Muestra el resultado\n",
        "print(\"Promedio de la clase:\", promedio)\n"
      ],
      "metadata": {
        "colab": {
          "base_uri": "https://localhost:8080/"
        },
        "id": "coj20PPAfWXv",
        "outputId": "3925c66d-ca8c-4e48-9db9-b0efba36284f"
      },
      "execution_count": 1,
      "outputs": [
        {
          "output_type": "stream",
          "name": "stdout",
          "text": [
            "Promedio de la clase: 7.777777777777778\n"
          ]
        }
      ]
    },
    {
      "cell_type": "markdown",
      "source": [
        "**Pregunta 2: Encuentra la nota más baja y la más alta. ¿Cómo lo harías?**"
      ],
      "metadata": {
        "id": "WHv5PkxXULo1"
      }
    },
    {
      "cell_type": "code",
      "source": [
        "# Lista de notas de los estudiantes\n",
        "notas = [8, 7.5, 10, 6, 9.5, 5, 8, 7, 9]\n",
        "\n",
        "# Encuentra la nota mínima\n",
        "nota_minima = min(notas)\n",
        "\n",
        "# Encuentra la nota máxima\n",
        "nota_maxima = max(notas)\n",
        "\n",
        "# Muestra los resultados (min recorre toda la lista devuelve el menor valor que encuentre y max recorre toda la lista y devuelve el mayor valor)\n",
        "print(\"Nota más baja:\", nota_minima)\n",
        "print(\"Nota más alta:\", nota_maxima)\n"
      ],
      "metadata": {
        "colab": {
          "base_uri": "https://localhost:8080/"
        },
        "id": "WVQBLGaqmUIs",
        "outputId": "10933b33-a1ab-4f6b-8b43-3083f6cdf529"
      },
      "execution_count": 2,
      "outputs": [
        {
          "output_type": "stream",
          "name": "stdout",
          "text": [
            "Nota más baja: 5\n",
            "Nota más alta: 10\n"
          ]
        }
      ]
    },
    {
      "cell_type": "markdown",
      "source": [
        "**Optativo a elección**:  Desafío 2: Ordenar el inventario de libros sin alterar el original\n",
        "\n",
        "Como encargado de la biblioteca, necesitas organizar los libros de acuerdo con sus códigos de identificación en orden decreciente, sin modificar la lista original. Se recomienda usar la función sorted()."
      ],
      "metadata": {
        "id": "V7iQU_blUlBW"
      }
    },
    {
      "cell_type": "code",
      "source": [
        "# Lista original:\n",
        "codigos_libros = [101, 87, 203, 150, 96, 178]\n",
        "\n",
        "# sorted() se utiliza para obtener una nueva lista ordenada, sin modificar la original\n",
        "# reverse=True indica que queremos ordenar la lista de mayor a menor.\n",
        "codigos_ordenados = sorted(codigos_libros, reverse=True)\n",
        "\n",
        "# Mostrar las listas\n",
        "print(\"Lista original:\", codigos_libros)\n",
        "print(\"Lista ordenada (decreciente):\", codigos_ordenados)\n"
      ],
      "metadata": {
        "colab": {
          "base_uri": "https://localhost:8080/"
        },
        "id": "q20SqgR8VdAP",
        "outputId": "4178e9d5-a211-4342-e172-719a5632b460"
      },
      "execution_count": 2,
      "outputs": [
        {
          "output_type": "stream",
          "name": "stdout",
          "text": [
            "Lista original: [101, 87, 203, 150, 96, 178]\n",
            "Lista ordenada (decreciente): [203, 178, 150, 101, 96, 87]\n"
          ]
        }
      ]
    },
    {
      "cell_type": "markdown",
      "source": [
        "**¿Por qué es importante no modificar la lista original?**\n",
        "\n",
        "Es importante no modificar la lista original porque muchas veces esos datos tienen un valor que se necesitan conservar. En este caso, por ejemplo, la lista original representa el orden en que se ingresaron los libros a la biblioteca, y modificarla podría hacer perder esa información.En programación muchas veces vamos a necesitar trabajar con copias de los datos para hacer operaciones sin alterar la fuente original, sobre todo si después se van a usar en otros procesos.\n",
        "\n",
        "\n",
        "\n",
        "**¿Por qué no puedo usar el método sort sobre la lista original?**\n",
        "\n",
        "No puedo usar el método sort() porque ese método ordena la lista modificándola directamente, y en este desafío se pide mantener la lista original sin cambios, por lo tanto hay que utilizar sorted(), que devuelve una nueva lista ordenada sin tocar la original."
      ],
      "metadata": {
        "id": "FoBZbA9XVd0U"
      }
    }
  ]
}