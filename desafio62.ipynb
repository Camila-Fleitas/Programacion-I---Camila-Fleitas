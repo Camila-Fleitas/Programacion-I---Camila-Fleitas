{
 "cells": [
  {
   "cell_type": "markdown",
   "id": "df3c5988",
   "metadata": {},
   "source": [
    "Desafío 62: Crea una clase Musico que tenga un método instrumento y crea dos subclases Guitarrista y Baterista que sobrescriban el método instrumento. Instancia objetos de estas clases y demuestra el polimorfismo. "
   ]
  },
  {
   "cell_type": "code",
   "execution_count": 3,
   "id": "50bc8fd3",
   "metadata": {},
   "outputs": [
    {
     "name": "stdout",
     "output_type": "stream",
     "text": [
      "Lola toca guitarra\n",
      "Maxi toca batería\n",
      "Ana toca guitarra\n",
      "Sofi toca batería\n",
      "Diego toca guitarra\n",
      "Diego ahora toca batería\n"
     ]
    }
   ],
   "source": [
    "# --- Clase base Musico ---\n",
    "class Musico:\n",
    "    # Constructor: inicializa el nombre del músico\n",
    "    def __init__(self, nombre):\n",
    "        self.nombre = nombre  # Atributo común para todos los músicos\n",
    "\n",
    "    # Método que indica el instrumento del músico\n",
    "    # Se sobrescribirá en las subclases\n",
    "    def instrumento(self):\n",
    "        return \"algún instrumento\"  # Valor genérico por defecto\n",
    "\n",
    "    # Getter para el nombre (buena práctica)\n",
    "    def get_nombre(self):\n",
    "        return self.nombre\n",
    "\n",
    "\n",
    "# --- Subclase Guitarrista ---\n",
    "class Guitarrista(Musico):\n",
    "    # Sobrescribimos el método instrumento\n",
    "    def instrumento(self):\n",
    "        return \"guitarra\"  # Implementación específica de Guitarrista\n",
    "\n",
    "\n",
    "# --- Subclase Baterista ---\n",
    "class Baterista(Musico):\n",
    "    # Sobrescribimos el método instrumento\n",
    "    def instrumento(self):\n",
    "        return \"batería\"  # Implementación específica de Baterista\n",
    "\n",
    "\n",
    "# --- Ejemplo de uso para demostrar polimorfismo ---\n",
    "\n",
    "# Lista de músicos (polimórfica: tipo Musico, pero contiene distintos \"hijos\")\n",
    "banda = [\n",
    "    Guitarrista(\"Lola\"),\n",
    "    Baterista(\"Maxi\"),\n",
    "    Guitarrista(\"Ana\"),\n",
    "    Baterista(\"Sofi\")\n",
    "]\n",
    "\n",
    "# Demostración de polimorfismo:\n",
    "# Aunque el tipo declarado es Musico, se ejecuta el método real de cada subclase\n",
    "for m in banda:\n",
    "    print(f\"{m.get_nombre()} toca {m.instrumento()}\")\n",
    "\n",
    "# Extra: una misma referencia puede apuntar a distintos objetos\n",
    "musico = Guitarrista(\"Diego\")\n",
    "print(f\"{musico.get_nombre()} toca {musico.instrumento()}\")\n",
    "\n",
    "musico = Baterista(\"Diego\")  # Ahora la misma variable apunta a un Baterista\n",
    "print(f\"{musico.get_nombre()} ahora toca {musico.instrumento()}\")\n",
    "\n"
   ]
  }
 ],
 "metadata": {
  "kernelspec": {
   "display_name": "Python 3",
   "language": "python",
   "name": "python3"
  },
  "language_info": {
   "codemirror_mode": {
    "name": "ipython",
    "version": 3
   },
   "file_extension": ".py",
   "mimetype": "text/x-python",
   "name": "python",
   "nbconvert_exporter": "python",
   "pygments_lexer": "ipython3",
   "version": "3.13.2"
  }
 },
 "nbformat": 4,
 "nbformat_minor": 5
}
